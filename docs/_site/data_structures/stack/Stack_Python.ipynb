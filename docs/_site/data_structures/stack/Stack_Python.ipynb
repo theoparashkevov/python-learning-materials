{
 "cells": [
  {
   "cell_type": "code",
   "execution_count": 2,
   "id": "743aa37c-f37f-40a9-8100-e9274d3b3acb",
   "metadata": {},
   "outputs": [],
   "source": [
    "%load_ext jupyter_ai"
   ]
  },
  {
   "cell_type": "code",
   "execution_count": null,
   "id": "10daf3e6-3e16-4b00-96f8-4b3a0e0db3b3",
   "metadata": {},
   "outputs": [],
   "source": [
    "%%ai chatgpt \n",
    "List the avantages and disadvantages of Linked stack"
   ]
  },
  {
   "cell_type": "code",
   "execution_count": null,
   "id": "f4f8705c-66eb-4583-8374-65a202d52599",
   "metadata": {},
   "outputs": [],
   "source": [
    "from random import randint\n",
    "import sys\n",
    "import numpy as np\n",
    "import time \n",
    "import pandas as pd"
   ]
  },
  {
   "cell_type": "markdown",
   "id": "fdbd86ac-bdac-42af-b747-7c83a5bdee5b",
   "metadata": {},
   "source": [
    "# Stack\n",
    "\n",
    "---\n"
   ]
  },
  {
   "cell_type": "markdown",
   "id": "04cd11a3-54f6-4bfb-b41b-3a94d3135f13",
   "metadata": {},
   "source": [
    "## Definition\n",
    "\n",
    "A stack is a linear data structure characterized by its LIFO (Last In, First Out) principle. It is an ordered collection of elements where the addition and removal of elements occur only at one end, known as the top of the stack. The stack follows a strict policy of element insertion and removal through its top, implying that the last element added to the stack is the first to be removed. This structure can be implemented as an abstract data type that provides operations to manipulate its contents."
   ]
  },
  {
   "cell_type": "markdown",
   "id": "d8400878-ce08-4519-b7cf-b0bb6929fbce",
   "metadata": {},
   "source": [
    "## Usage\n",
    "\n",
    "Stacks find extensive usage across various domains due to their efficiency and simplicity. They are commonly utilized for solving problems involving reversing or undoing operations. The stack data structure is integral in parsing expressions, implementing recursive algorithms, evaluating postfix expressions, and backtracking through recursive depth-first search algorithms. Furthermore, stacks are fundamental in the implementation of run-time call stacks in programming languages, enabling function calls and their respective return addresses to be stored and managed efficiently. The versatility and utility of the stack data structure make it a fundamental component in algorithm design and analysis.\n"
   ]
  },
  {
   "cell_type": "markdown",
   "id": "12b6b5ee-d7a3-4d11-a71f-328e92aa7dbd",
   "metadata": {},
   "source": [
    "## Sequential stack\n",
    "\n",
    "---"
   ]
  },
  {
   "cell_type": "markdown",
   "id": "35440b3b-1755-4c30-82c2-9439551d05a3",
   "metadata": {},
   "source": [
    "### Definition\n",
    "\n",
    "A sequential stack, also known as an array-based stack, is a type of stack implementation that uses an underlying array to store its elements. It maintains a fixed-size array where elements are added and removed from one end, typically the top of the stack. Sequential stacks provide efficient random access to elements and support constant-time insertion and deletion operations. However, the size of a sequential stack is fixed, meaning it cannot dynamically resize to accommodate varying numbers of elements.\n"
   ]
  },
  {
   "cell_type": "markdown",
   "id": "e1068c53-d449-4213-ae68-d643d5ee98e0",
   "metadata": {},
   "source": [
    "### Advantages of sequential stacks\n",
    "\n",
    "- <span style=\"color: rgb(229, 235, 73);\"> __Efficient random access__ </span>: Sequential stacks provide efficient random access to elements due to the underlying array representation.\n",
    "- <span style=\"color: rgb(229, 235, 73);\"> __Constant-time operations__ </span>: Insertion and deletion operations in sequential stacks have a constant time complexity, making them efficient.\n",
    "- <span style=\"color: rgb(229, 235, 73);\"> __Space efficiency__ </span>: Sequential stacks have efficient memory utilization as they only require storage for the elements themselves and the fixed-size array.\n",
    "\n"
   ]
  },
  {
   "cell_type": "markdown",
   "id": "73cee52b-9bbc-4ffc-9122-293b9d3a0636",
   "metadata": {},
   "source": [
    "### Disadvantages of sequential stacks\n",
    "\n",
    "- <span style=\"color: rgb(229, 235, 73);\"> __Fixed size__ </span>: Sequential stacks have a fixed size determined during initialization, which means they cannot dynamically resize to accommodate varying numbers of elements. This limitation can lead to stack overflow or underflow if the number of elements exceeds the capacity or if the stack becomes empty.\n",
    "- <span style=\"color: rgb(229, 235, 73);\"> __Inefficient resizing__ </span>: Resizing a sequential stack requires creating a new larger array and copying all elements, resulting in additional time complexity and potential memory allocation issues.\n",
    "- <span style=\"color: rgb(229, 235, 73);\"> __Wasteful memory usage__ </span>: If the stack does not utilize its entire capacity, the memory allocated for the unused portion of the array is wasted.\n",
    "- <span style=\"color: rgb(229, 235, 73);\"> __Limited scalability__ </span>: Due to the fixed-size nature, sequential stacks may not be suitable for applications with unpredictable or varying numbers of elements, as they require upfront determination of the maximum capacity."
   ]
  },
  {
   "cell_type": "markdown",
   "id": "62d4475a-e592-466a-8e8d-64eb22285184",
   "metadata": {},
   "source": [
    "### Advantages\n",
    "\n",
    "- <span style=\"color: rgb(97, 68, 242);\"> __Efficient random access__ </span>\n",
    "- <span style=\"color: rgb(97, 68, 242);\"> __Constant-time operations__ </span>\n",
    "- <span style=\"color: rgb(97, 68, 242);\"> __Space efficiency__ </span>\n"
   ]
  },
  {
   "cell_type": "markdown",
   "id": "7896d8a2-9568-40ab-8f08-e2ef405f44bb",
   "metadata": {},
   "source": [
    "### Disadvantages\n",
    "\n",
    "- <span style=\"color: rgb(245, 66, 81);\"> __Fixed size__ </span>\n",
    "- <span style=\"color: rgb(245, 66, 81);\"> __Inefficient resizing__ </span>\n",
    "- <span style=\"color: rgb(245, 66, 81);\"> __Wasteful memory usage__ </span>\n",
    "- <span style=\"color: rgb(245, 66, 81);\"> __Limited scalability__ </span>"
   ]
  },
  {
   "cell_type": "markdown",
   "id": "58309146-9d82-4223-9b86-78fab5e158a7",
   "metadata": {},
   "source": [
    "## Linked stack\n",
    "\n",
    "---"
   ]
  },
  {
   "cell_type": "markdown",
   "id": "f7bddc07-7f2c-48ba-a226-be7f041d190c",
   "metadata": {},
   "source": [
    "### Definition \n",
    "\n",
    "A linked stack, also referred to as a linked list-based stack, is a type of stack implementation that uses a linked list to store its elements. It is composed of nodes where each node contains an element and a reference to the next node. The top of the stack is represented by the first node in the linked list. Linked stacks provide flexibility in terms of size as they can dynamically grow or shrink to accommodate elements. Insertion and deletion operations are efficient, requiring only the manipulation of the linked list's pointers. Linked stacks allow for efficient memory utilization, but they may incur additional overhead due to the storage of node references."
   ]
  },
  {
   "cell_type": "markdown",
   "id": "6943184c-74fe-4447-8fc0-d68440014163",
   "metadata": {},
   "source": [
    "### Advantages of Linked Stack:\n",
    "\n",
    "- <span style=\"color: rgb(229, 235, 73);\"> __Dynamic size__ </span>: Linked stack allows for a dynamic size, as elements can be added or removed easily without any need for resizing or shifting of elements.\n",
    "- <span style=\"color: rgb(229, 235, 73);\"> __Efficient memory utilization__ </span>: Linked stack optimizes memory utilization as it only allocates memory for the elements actually stored in the stack, unlike an array-based stack which requires a fixed size allocation.\n",
    "- <span style=\"color: rgb(229, 235, 73);\"> __Ease of implementation__ </span>: Implementing a linked stack is relatively straightforward, requiring minimal coding and no need for complex resizing strategies.\n",
    "- <span style=\"color: rgb(229, 235, 73);\"> __Flexibility__ </span>: Linked stack allows for easy implementation of additional operations such as copying or merging stacks, which can be useful in various applications.\n",
    "\n",
    "\n"
   ]
  },
  {
   "cell_type": "markdown",
   "id": "c96111b1-bb50-46b1-beb1-0e31adef0faa",
   "metadata": {},
   "source": [
    "### Disadvantages of Linked Stack:\n",
    "\n",
    "- <span style=\"color: rgb(229, 235, 73);\"> __Overhead of pointers__ </span>: Each element in a linked stack requires additional memory space for storing pointers, which can result in increased overhead when compared to an array-based stack.\n",
    "- <span style=\"color: rgb(229, 235, 73);\"> __Slower access times__ </span>: Accessing an element in a linked stack requires traversing through the nodes, leading to slower access times compared to direct indexing in an array-based stack.\n",
    "- <span style=\"color: rgb(229, 235, 73);\"> __Extra memory overhead__ </span>: Linked stack utilizes additional memory to store the pointers, which can result in higher memory overhead compared to the actual data being stored.\n",
    "- <span style=\"color: rgb(229, 235, 73);\"> __Potential for memory fragmentation__ </span>: If elements are frequently added and removed from a linked stack, it can lead to memory fragmentation over time, which may cause inefficient memory usage."
   ]
  },
  {
   "cell_type": "markdown",
   "id": "3aea0ed6-077b-4085-8eac-24276e469fb0",
   "metadata": {},
   "source": [
    "### Advantages\n",
    "\n",
    "- <span style=\"color: rgb(97, 68, 242);\"> __Dynamic size__ </span>\n",
    "- <span style=\"color: rgb(97, 68, 242);\"> __Efficient memory utilization__ </span>\n",
    "- <span style=\"color: rgb(97, 68, 242);\"> __Ease of implementation__ </span>\n",
    "- <span style=\"color: rgb(97, 68, 242);\"> __Flexibility__ </span>"
   ]
  },
  {
   "cell_type": "markdown",
   "id": "2dcdb270-45af-4baa-892a-65fc9a1ffb51",
   "metadata": {},
   "source": [
    "### Disadvantages\n",
    "\n",
    "- <span style=\"color: rgb(245, 66, 81);\">  __Overhead of pointers__ </span>\n",
    "- <span style=\"color: rgb(245, 66, 81);\">  __Slower access times__ </span>\n",
    "- <span style=\"color: rgb(245, 66, 81);\">  __Extra memory overhead__ </span>\n",
    "- <span style=\"color: rgb(245, 66, 81);\">  __Potential for memory fragmentation__ </span>\n",
    "\n"
   ]
  },
  {
   "cell_type": "code",
   "execution_count": null,
   "id": "6369d668-0cae-4672-8825-a0884cdb58e9",
   "metadata": {},
   "outputs": [],
   "source": []
  }
 ],
 "metadata": {
  "kernelspec": {
   "display_name": "Python 3 (ipykernel)",
   "language": "python",
   "name": "python3"
  },
  "language_info": {
   "codemirror_mode": {
    "name": "ipython",
    "version": 3
   },
   "file_extension": ".py",
   "mimetype": "text/x-python",
   "name": "python",
   "nbconvert_exporter": "python",
   "pygments_lexer": "ipython3",
   "version": "3.11.4"
  }
 },
 "nbformat": 4,
 "nbformat_minor": 5
}
